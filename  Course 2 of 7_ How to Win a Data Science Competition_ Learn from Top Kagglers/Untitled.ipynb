{
 "cells": [
  {
   "cell_type": "code",
   "execution_count": 1,
   "metadata": {},
   "outputs": [],
   "source": [
    "import os\n",
    "import tarfile\n",
    "tarFileName='currdir.tar'\n",
    "def RecursiveFiles(dn='.',ignoreTarFile=tarFileName):\n",
    "    ignore={'.pynb_checkpoints','pycache',ignoreTarFile}\n",
    "    for dirname,subdirs,files in os.walk(dn):\n",
    "        if os.path.basename(dirname) in ignore: continue\n",
    "        for fn in files:\n",
    "            fname=os.path.join(dirname,fn)\n",
    "            yield(fname)\n",
    "        return\n",
    "\n",
    "def makeTarFile(dn='.',tfn=tarFileName):\n",
    "    tar=tarfile.open(tfn,'w')\n",
    "    for name in RecursiveFiles(dn,tfn):\n",
    "        tar.add(name)\n",
    "    tar.close()\n",
    "\n",
    "makeTarFile()"
   ]
  },
  {
   "cell_type": "code",
   "execution_count": null,
   "metadata": {},
   "outputs": [],
   "source": []
  }
 ],
 "metadata": {
  "kernelspec": {
   "display_name": "Python 3",
   "language": "python",
   "name": "python3"
  },
  "language_info": {
   "codemirror_mode": {
    "name": "ipython",
    "version": 3
   },
   "file_extension": ".py",
   "mimetype": "text/x-python",
   "name": "python",
   "nbconvert_exporter": "python",
   "pygments_lexer": "ipython3",
   "version": "3.6.0"
  }
 },
 "nbformat": 4,
 "nbformat_minor": 2
}
