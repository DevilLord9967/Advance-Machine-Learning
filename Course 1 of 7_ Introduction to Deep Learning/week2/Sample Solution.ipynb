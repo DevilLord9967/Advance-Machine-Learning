{
 "cells": [
  {
   "cell_type": "code",
   "execution_count": 1,
   "metadata": {},
   "outputs": [
    {
     "name": "stderr",
     "output_type": "stream",
     "text": [
      "Using TensorFlow backend.\n"
     ]
    },
    {
     "name": "stdout",
     "output_type": "stream",
     "text": [
      "Downloading data from https://s3.amazonaws.com/img-datasets/mnist.npz\n",
      "11460608/11490434 [============================>.] - ETA: 0s(50000, 28, 28) (50000,)\n"
     ]
    },
    {
     "data": {
      "image/png": "[encoded data removed]",
      "text/plain": [
       "<matplotlib.figure.Figure at 0x1f6a11d6f60>"
      ]
     },
     "metadata": {},
     "output_type": "display_data"
    }
   ],
   "source": [
    "from preprocessed_mnist import load_dataset\n",
    "X_train, y_train, X_val, y_val, X_test, y_test = load_dataset()\n",
    "print(X_train.shape, y_train.shape)\n",
    "import matplotlib.pyplot as plt\n",
    "%matplotlib inline\n",
    "plt.imshow(X_train[0], cmap=\"Greys\");"
   ]
  },
  {
   "cell_type": "code",
   "execution_count": 2,
   "metadata": {},
   "outputs": [
    {
     "data": {
      "text/plain": [
       "(10000,)"
      ]
     },
     "execution_count": 2,
     "metadata": {},
     "output_type": "execute_result"
    }
   ],
   "source": [
    "X_test.shape\n",
    "y_test.shape"
   ]
  },
  {
   "cell_type": "code",
   "execution_count": 3,
   "metadata": {},
   "outputs": [
    {
     "data": {
      "text/plain": [
       "'1.2.1'"
      ]
     },
     "execution_count": 3,
     "metadata": {},
     "output_type": "execute_result"
    }
   ],
   "source": [
    "import tensorflow as tf\n",
    "tf.__version__"
   ]
  },
  {
   "cell_type": "code",
   "execution_count": 4,
   "metadata": {},
   "outputs": [
    {
     "name": "stdout",
     "output_type": "stream",
     "text": [
      "[[ 0.  0.  0.  0.  0.  1.  0.  0.  0.  0.]\n",
      " [ 0.  0.  0.  0.  0.  0.  0.  0.  1.  0.]]\n",
      "[5 8]\n",
      "[[ 0.  0.  0.  0.  0.  0.  0.  1.  0.  0.]\n",
      " [ 0.  0.  1.  0.  0.  0.  0.  0.  0.  0.]]\n",
      "[7 2]\n",
      "(50000, 784) (10000, 784)\n"
     ]
    }
   ],
   "source": [
    "import numpy as np\n",
    "from random import shuffle\n",
    "\n",
    "ind_list = [i for i in range(X_train.shape[0])]\n",
    "shuffle(ind_list)\n",
    "# shuffle...\n",
    "X_train  = X_train[ind_list, :,:]\n",
    "y_train = y_train[ind_list,]\n",
    "\n",
    "\n",
    "out_cases = 10\n",
    "\n",
    "# make one hot encoding. 1 -> [0, 1, 0, 0, 0, 0, 0, 0, 0, 0]\n",
    "y_train_onehot = np.eye( out_cases )[ y_train ]\n",
    "y_test_onehot = np.eye( out_cases )[ y_test ]\n",
    "\n",
    "print( y_train_onehot[:2] )\n",
    "print( y_train[:2] )\n",
    "\n",
    "print( y_test_onehot[:2] )\n",
    "print( y_test[:2] )\n",
    "\n",
    "# to feed 28x28 -> 784\n",
    "X_train = X_train.reshape( [-1, 784] )\n",
    "X_test = X_test.reshape( [-1, 784] )\n",
    "\n",
    "print( X_train.shape, X_test.shape )"
   ]
  },
  {
   "cell_type": "code",
   "execution_count": 5,
   "metadata": {
    "collapsed": true
   },
   "outputs": [],
   "source": [
    "input_size = X_train.shape[1]\n",
    "\n",
    "X = tf.placeholder( tf.float32, shape=(None, input_size))\n",
    "Y = tf.placeholder( tf.float32, shape=(None, out_cases))\n",
    "keepprob = tf.placeholder( tf.float32 )"
   ]
  },
  {
   "cell_type": "code",
   "execution_count": 6,
   "metadata": {
    "collapsed": true
   },
   "outputs": [],
   "source": [
    "\n",
    "input_to_hidden = 128\n",
    "hidden_to_out = 64\n",
    "\n",
    "w_input = tf.get_variable('w_input', [input_size, input_to_hidden], initializer=tf.contrib.layers.xavier_initializer() )\n",
    "b_input = tf.get_variable('b_input', [input_to_hidden], initializer=tf.zeros_initializer() )\n",
    "\n",
    "w_hidden = tf.get_variable('w_hidden', [input_to_hidden, hidden_to_out], initializer=tf.contrib.layers.xavier_initializer() )\n",
    "b_hidden = tf.get_variable('b_hidden', [hidden_to_out], initializer=tf.zeros_initializer() )\n",
    "\n",
    "w_hidden2 = tf.get_variable('w_hidden2', [hidden_to_out, hidden_to_out], initializer=tf.contrib.layers.xavier_initializer() )\n",
    "b_hidden2 = tf.get_variable('b_hidden2', [hidden_to_out], initializer=tf.zeros_initializer() )\n",
    "\n",
    "w_hidden3 = tf.get_variable('w_hidden3', [hidden_to_out, hidden_to_out], initializer=tf.contrib.layers.xavier_initializer() )\n",
    "b_hidden3 = tf.get_variable('b_hidden3', [hidden_to_out], initializer=tf.zeros_initializer() )\n",
    "\n",
    "w_out = tf.get_variable('w_out', [hidden_to_out, out_cases], initializer=tf.contrib.layers.xavier_initializer() )\n",
    "b_out = tf.get_variable('b_out', [out_cases], initializer=tf.zeros_initializer() )\n"
   ]
  },
  {
   "cell_type": "code",
   "execution_count": 12,
   "metadata": {
    "collapsed": true
   },
   "outputs": [],
   "source": [
    "\n",
    "layer = tf.matmul( X, w_input ) + b_input\n",
    "#layer = tf.nn.relu( layer )\n",
    "#layer = selu( layer )\n",
    "layer = tf.nn.elu( layer )\n",
    "layer = tf.nn.dropout( layer, keepprob )\n",
    "\n",
    "layer = tf.matmul( layer, w_hidden ) + b_hidden\n",
    "#layer = tf.nn.relu( layer )\n",
    "#layer = selu( layer )\n",
    "layer = tf.nn.elu( layer )\n",
    "\n",
    "layer = tf.matmul( layer, w_hidden2 ) + b_hidden2\n",
    "#layer = tf.nn.relu( layer )\n",
    "#layer = selu( layer )\n",
    "layer = tf.nn.elu( layer )\n",
    "layer = tf.nn.dropout( layer, keepprob )\n",
    "\n",
    "layer = tf.matmul( layer, w_hidden3 ) + b_hidden3\n",
    "#layer = tf.nn.relu( layer )\n",
    "#layer = selu( layer )\n",
    "layer = tf.nn.elu( layer )\n",
    "\n",
    "layer_before_activation = tf.matmul( layer, w_out ) + b_out\n",
    "layer = tf.nn.softmax( layer_before_activation )\n"
   ]
  },
  {
   "cell_type": "code",
   "execution_count": 13,
   "metadata": {},
   "outputs": [
    {
     "name": "stdout",
     "output_type": "stream",
     "text": [
      "epoch 0. train-cost0.36672070622444153 test-cost0.22531193494796753. elapsed:3.066152811050415 sec. tot elapsed:3.066152811050415 sec\n",
      "epoch 5. train-cost0.1787841022014618 test-cost0.12168481200933456. elapsed:2.9724037647247314 sec. tot elapsed:18.41747212409973 sec\n",
      "epoch 10. train-cost0.14047834277153015 test-cost0.09818244725465775. elapsed:2.889683485031128 sec. tot elapsed:33.36421489715576 sec\n",
      "epoch 15. train-cost0.12419779598712921 test-cost0.09004645049571991. elapsed:2.966888189315796 sec. tot elapsed:48.222723722457886 sec\n",
      "epoch 20. train-cost0.11027409881353378 test-cost0.08721542358398438. elapsed:2.8992087841033936 sec. tot elapsed:63.3569655418396 sec\n",
      "epoch 25. train-cost0.10622454434633255 test-cost0.08486728370189667. elapsed:2.9678914546966553 sec. tot elapsed:78.17486596107483 sec\n",
      "epoch 30. train-cost0.0918528288602829 test-cost0.08175749331712723. elapsed:2.918259382247925 sec. tot elapsed:93.03086805343628 sec\n",
      "epoch 35. train-cost0.08739615231752396 test-cost0.07883045077323914. elapsed:3.125310182571411 sec. tot elapsed:108.3982298374176 sec\n",
      "epoch 40. train-cost0.08068499714136124 test-cost0.07659222185611725. elapsed:3.2135448455810547 sec. tot elapsed:123.89894604682922 sec\n",
      "epoch 45. train-cost0.0788368433713913 test-cost0.07633598893880844. elapsed:3.00849986076355 sec. tot elapsed:139.45831847190857 sec\n",
      "epoch 50. train-cost0.07581023126840591 test-cost0.07761820405721664. elapsed:2.91575288772583 sec. tot elapsed:154.22809076309204 sec\n",
      "epoch 55. train-cost0.07744386047124863 test-cost0.07539293169975281. elapsed:3.0962331295013428 sec. tot elapsed:169.30618357658386 sec\n",
      "epoch 60. train-cost0.0713082030415535 test-cost0.08137977123260498. elapsed:2.886174440383911 sec. tot elapsed:184.4263880252838 sec\n",
      "epoch 65. train-cost0.06845320016145706 test-cost0.08509926497936249. elapsed:3.150376319885254 sec. tot elapsed:200.25497579574585 sec\n",
      "epoch 70. train-cost0.06811239570379257 test-cost0.07200071960687637. elapsed:2.8616080284118652 sec. tot elapsed:215.5616762638092 sec\n",
      "epoch 75. train-cost0.06249934434890747 test-cost0.07651510089635849. elapsed:3.0415873527526855 sec. tot elapsed:230.55103302001953 sec\n"
     ]
    },
    {
     "data": {
      "image/png": "[encoded data removed]",
      "text/plain": [
       "<matplotlib.figure.Figure at 0x1f6aa8b1f28>"
      ]
     },
     "metadata": {},
     "output_type": "display_data"
    },
    {
     "name": "stdout",
     "output_type": "stream",
     "text": [
      "Train Accuracy: 0.99618\n",
      "Test Accuracy: 0.9812\n"
     ]
    }
   ],
   "source": [
    "import time \n",
    "\n",
    "batch_size = 50\n",
    "max_epoch = 80\n",
    "train_keep_prob = 0.5\n",
    "test_keep_prob = 1.0\n",
    "\n",
    "tot_elapsed = 0\n",
    "\n",
    "\n",
    "#global_step = tf.Variable(0, trainable=False)\n",
    "#st_learn_rate = 0.001\n",
    "#learn_rate = tf.train.exponential_decay(st_learn_rate, global_step, X_train.shape[0] / batch_size, 0.96, staircase=True)\n",
    "\n",
    "cost = tf.reduce_mean( tf.nn.softmax_cross_entropy_with_logits(labels=Y, logits=layer_before_activation)  )\n",
    "learn_rate = 0.001\n",
    "optimizer = tf.train.AdamOptimizer( learn_rate ).minimize( cost )\n",
    "\n",
    "with tf.Session() as sess:\n",
    "    init = tf.global_variables_initializer()\n",
    "    sess.run(init)\n",
    "    train_costs = []\n",
    "    test_costs = []\n",
    "    step = 0\n",
    "    for epoch in range(max_epoch):\n",
    "        \n",
    "        st = time.time()\n",
    "        for i in range(0, X_train.shape[0], batch_size):\n",
    "            X_train_batch = X_train[i:i+batch_size]\n",
    "            Y_train_batch = y_train_onehot[i: i+batch_size]            \n",
    "            #ind_list = [i for i in range(X_train_batch.shape[0])]\n",
    "            #shuffle(ind_list)            \n",
    "            #X_train_batch  = X_train_batch[ind_list, :]\n",
    "            #Y_train_batch = Y_train_batch[ind_list,]\n",
    "            \n",
    "            #global_step += 1\n",
    "            sess.run(optimizer, feed_dict={X:X_train_batch, Y:Y_train_batch, keepprob:train_keep_prob})\n",
    "            \n",
    "        train_costs.append(sess.run(cost, feed_dict={X:X_train, Y:y_train_onehot, keepprob:train_keep_prob}))\n",
    "        test_costs.append(sess.run(cost, feed_dict={X:X_test, Y:y_test_onehot, keepprob:test_keep_prob}))\n",
    "        \n",
    "        end = time.time()\n",
    "        \n",
    "        elapsed = end - st\n",
    "        tot_elapsed += elapsed\n",
    "        \n",
    "        if 5 == epoch % 10 or 0 == epoch % 10:\n",
    "            print( \"epoch {}. train-cost{} test-cost{}. elapsed:{} sec. tot elapsed:{} sec\".format( epoch, train_costs[-1], test_costs[-1], elapsed, tot_elapsed ) )\n",
    "            \n",
    "    iterations = list(range(max_epoch))\n",
    "    plt.plot(iterations, train_costs, label='Train')\n",
    "    plt.plot(iterations, test_costs, label='Test')\n",
    "    plt.ylabel('train cost')\n",
    "    plt.xlabel('iterations')\n",
    "    plt.show()\n",
    "    \n",
    "    # Calculate the correct predictions\n",
    "    predict_op = tf.argmax(layer, 1)\n",
    "    correct_prediction = tf.equal(predict_op, tf.argmax(Y, 1))\n",
    "\n",
    "    # Calculate accuracy on the test set\n",
    "    accuracy = tf.reduce_mean(tf.cast(correct_prediction, \"float\"))\n",
    "    train_accuracy = accuracy.eval({X: X_train, Y: y_train_onehot, keepprob:test_keep_prob})\n",
    "    test_accuracy = accuracy.eval({X: X_test, Y: y_test_onehot, keepprob:test_keep_prob})\n",
    "    print(\"Train Accuracy:\", train_accuracy)\n",
    "    print(\"Test Accuracy:\", test_accuracy)"
   ]
  },
  {
   "cell_type": "code",
   "execution_count": null,
   "metadata": {
    "collapsed": true
   },
   "outputs": [],
   "source": []
  }
 ],
 "metadata": {
  "kernelspec": {
   "display_name": "Python 3",
   "language": "python",
   "name": "python3"
  },
  "language_info": {
   "codemirror_mode": {
    "name": "ipython",
    "version": 3
   },
   "file_extension": ".py",
   "mimetype": "text/x-python",
   "name": "python",
   "nbconvert_exporter": "python",
   "pygments_lexer": "ipython3",
   "version": "3.6.0"
  }
 },
 "nbformat": 4,
 "nbformat_minor": 2
}
