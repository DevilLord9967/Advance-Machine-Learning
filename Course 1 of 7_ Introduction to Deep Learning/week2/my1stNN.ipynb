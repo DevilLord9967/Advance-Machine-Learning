{
 "cells": [
  {
   "cell_type": "code",
   "execution_count": 1,
   "metadata": {},
   "outputs": [
    {
     "name": "stderr",
     "output_type": "stream",
     "text": [
      "Using TensorFlow backend.\n"
     ]
    },
    {
     "name": "stdout",
     "output_type": "stream",
     "text": [
      "(50000, 28, 28) (50000,)\n"
     ]
    },
    {
     "data": {
      "image/png": "[encoded data removed]",
      "text/plain": [
       "<matplotlib.figure.Figure at 0x7f36ec36a358>"
      ]
     },
     "metadata": {},
     "output_type": "display_data"
    }
   ],
   "source": [
    "from preprocessed_mnist import load_dataset\n",
    "X_train, y_train, X_val, y_val, X_test, y_test = load_dataset()\n",
    "print(X_train.shape, y_train.shape)\n",
    "import matplotlib.pyplot as plt\n",
    "%matplotlib inline\n",
    "plt.imshow(X_train[0], cmap=\"Greys\");"
   ]
  },
  {
   "cell_type": "code",
   "execution_count": 2,
   "metadata": {},
   "outputs": [
    {
     "data": {
      "text/plain": [
       "(10000, 28, 28)"
      ]
     },
     "execution_count": 2,
     "metadata": {},
     "output_type": "execute_result"
    }
   ],
   "source": [
    "X_test.shape"
   ]
  },
  {
   "cell_type": "code",
   "execution_count": 3,
   "metadata": {
    "collapsed": true
   },
   "outputs": [],
   "source": [
    "X_train = X_train.reshape([50000, 784])\n",
    "X_test = X_test.reshape([10000, 784])"
   ]
  },
  {
   "cell_type": "code",
   "execution_count": 4,
   "metadata": {
    "collapsed": true
   },
   "outputs": [],
   "source": [
    "import numpy as np\n",
    "import tensorflow as tf"
   ]
  },
  {
   "cell_type": "code",
   "execution_count": 5,
   "metadata": {
    "collapsed": true
   },
   "outputs": [],
   "source": [
    "y_train = np.eye(10)[y_train]\n",
    "y_test = np.eye(10)[y_test]"
   ]
  },
  {
   "cell_type": "code",
   "execution_count": 6,
   "metadata": {
    "collapsed": true
   },
   "outputs": [],
   "source": [
    "X = tf.placeholder(tf.float32, shape=(None, 784))\n",
    "Y = tf.placeholder(tf.float32, shape=(None, 10))\n",
    "keep_prob = tf.placeholder(tf.float32)"
   ]
  },
  {
   "cell_type": "code",
   "execution_count": 7,
   "metadata": {},
   "outputs": [],
   "source": [
    "W1 = tf.get_variable(\"W1\", [784, 121], initializer = tf.contrib.layers.xavier_initializer())\n",
    "b1 = tf.get_variable(\"b1\", [121], initializer = tf.zeros_initializer())\n",
    "W2 = tf.get_variable(\"W2\", [121, 121], initializer = tf.contrib.layers.xavier_initializer())\n",
    "b2 = tf.get_variable(\"b2\", [121], initializer = tf.zeros_initializer())\n",
    "W3 = tf.get_variable(\"W3\", [121, 10], initializer = tf.contrib.layers.xavier_initializer())\n",
    "b3 = tf.get_variable(\"b3\", [10], initializer = tf.zeros_initializer())"
   ]
  },
  {
   "cell_type": "code",
   "execution_count": 8,
   "metadata": {},
   "outputs": [],
   "source": [
    "Z1 = tf.matmul(X, W1) + b1\n",
    "A1 = tf.nn.relu(Z1)\n",
    "A1 = tf.nn.dropout(A1, keep_prob)\n",
    "Z2 = tf.matmul(A1, W2) + b2\n",
    "A2 = tf.nn.relu(Z2)\n",
    "A2 = tf.nn.dropout(A2, keep_prob)\n",
    "Z3 = tf.matmul(A2, W3) + b3\n",
    "A3 = tf.nn.sigmoid(Z3)"
   ]
  },
  {
   "cell_type": "code",
   "execution_count": 9,
   "metadata": {
    "collapsed": true
   },
   "outputs": [],
   "source": [
    "def compute_cost(A3, Y):\n",
    "    cost = tf.reduce_mean(tf.nn.softmax_cross_entropy_with_logits(labels=Y, logits=A3))\n",
    "    return cost"
   ]
  },
  {
   "cell_type": "code",
   "execution_count": 10,
   "metadata": {},
   "outputs": [],
   "source": [
    "cost = compute_cost(A3, Y)\n",
    "\n",
    "#Lower the learning rate as the training progresses\n",
    "init_learning_rate = 0.00040\n",
    "global_step = tf.Variable(0, trainable=False)\n",
    "#Decay every 100 steps with a base of 0.85\n",
    "learning_rate = tf.train.exponential_decay(init_learning_rate, global_step, 100, 0.85, staircase=True)\n",
    "# Passing global_step to minimize() will increment it at each step.\n",
    "\n",
    "#Replace the steepest gradient descent optimizer with the more sophisticated ADAM optimizer\n",
    "optimizer = tf.train.AdamOptimizer(learning_rate).minimize(cost)\n"
   ]
  },
  {
   "cell_type": "code",
   "execution_count": 12,
   "metadata": {},
   "outputs": [
    {
     "name": "stdout",
     "output_type": "stream",
     "text": [
      "Cost after 10 epoch: 1.53002\n",
      "Cost after 20 epoch: 1.50706\n",
      "Cost after 30 epoch: 1.49614\n",
      "Cost after 40 epoch: 1.48869\n",
      "Cost after 50 epoch: 1.48406\n",
      "Cost after 60 epoch: 1.48028\n",
      "Cost after 70 epoch: 1.47754\n",
      "Cost after 80 epoch: 1.47539\n",
      "Cost after 90 epoch: 1.47364\n",
      "Cost after 100 epoch: 1.47236\n",
      "Cost after 110 epoch: 1.47118\n",
      "Cost after 120 epoch: 1.4702\n",
      "Cost after 130 epoch: 1.46952\n",
      "Cost after 140 epoch: 1.46866\n",
      "Cost after 150 epoch: 1.46797\n",
      "Cost after 160 epoch: 1.46752\n",
      "Cost after 170 epoch: 1.46701\n",
      "Cost after 180 epoch: 1.46658\n",
      "Cost after 190 epoch: 1.46632\n",
      "Cost after 200 epoch: 1.46603\n"
     ]
    },
    {
     "data": {
      "image/png": "[encoded data removed]",
      "text/plain": [
       "<matplotlib.figure.Figure at 0x7f36a9d95898>"
      ]
     },
     "metadata": {},
     "output_type": "display_data"
    },
    {
     "name": "stdout",
     "output_type": "stream",
     "text": [
      "Train Accuracy Score: 0.99486\n",
      "Test Accuracy Score: 0.9767\n"
     ]
    }
   ],
   "source": [
    "with tf.Session() as sess:\n",
    "    sess.run(tf.global_variables_initializer())\n",
    "    #For plot\n",
    "    train_cost = []\n",
    "    test_cost = []\n",
    "    batch_size = 1000\n",
    "    for epoch in range(1, 201):\n",
    "        for i in range(0, 50000, batch_size):\n",
    "            sess.run(optimizer, feed_dict={X:X_train[i:i+batch_size], Y: y_train[i:i+batch_size], keep_prob : 0.65})\n",
    "        train_cost.append(sess.run(cost, feed_dict={X:X_train, Y:y_train, keep_prob : 1}))\n",
    "        test_cost.append(sess.run(cost, feed_dict={X:X_test, Y:y_test, keep_prob : 1}))\n",
    "        #Print cost every 10 epoch\n",
    "        if epoch%10 == 0:\n",
    "            print(\"Cost after \" + str(epoch)+ \" epoch: \" + str(train_cost[-1]))\n",
    "    index = list(range(200))\n",
    "    plt.plot(index, train_cost, label='Train')\n",
    "    plt.plot(index, test_cost, label='Test')\n",
    "    plt.xlabel('number of iterations')\n",
    "    plt.ylabel('train cost')\n",
    "    plt.show()\n",
    "    \n",
    "    output = tf.argmax(Z3, 1)\n",
    "    pred = tf.equal(output, tf.argmax(Y,1))\n",
    "\n",
    "    acc = tf.reduce_mean(tf.cast(pred, \"float\"))\n",
    "    train_acc = acc.eval({X: X_train, Y: y_train, keep_prob : 1})\n",
    "    test_acc = acc.eval({X:X_test, Y: y_test, keep_prob: 1})\n",
    "    print(\"Train Accuracy Score:\", train_acc)\n",
    "    print(\"Test Accuracy Score:\", test_acc)\n",
    "   "
   ]
  }
 ],
 "metadata": {
  "kernelspec": {
   "display_name": "Python 3",
   "language": "python",
   "name": "python3"
  },
  "language_info": {
   "codemirror_mode": {
    "name": "ipython",
    "version": 3
   },
   "file_extension": ".py",
   "mimetype": "text/x-python",
   "name": "python",
   "nbconvert_exporter": "python",
   "pygments_lexer": "ipython3",
   "version": "3.6.0"
  }
 },
 "nbformat": 4,
 "nbformat_minor": 2
}
